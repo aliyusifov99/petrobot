{
 "cells": [
  {
   "cell_type": "code",
   "execution_count": 30,
   "metadata": {},
   "outputs": [],
   "source": [
    "# imports\n",
    "import ast  # for converting embeddings saved as strings back to arrays\n",
    "import openai  # for calling the OpenAI API\n",
    "import pandas as pd  # for storing text and embeddings data\n",
    "import tiktoken  # for counting tokens\n",
    "from scipy import spatial  # for calculating vector similarities for search\n",
    "import typing\n",
    "from keys import API_KEY\n",
    "\n",
    "\n",
    "# models\n",
    "EMBEDDING_MODEL = \"text-embedding-ada-002\"\n",
    "GPT_MODEL = \"gpt-4\"\n",
    "openai.api_key = API_KEY\n"
   ]
  },
  {
   "cell_type": "code",
   "execution_count": 8,
   "metadata": {},
   "outputs": [],
   "source": [
    "# download pre-chunked text and pre-computed embeddings\n",
    "# this file is ~200 MB, so may take a minute depending on your connection speed\n",
    "embeddings_path = r\"C:\\Users\\aliyu\\OneDrive\\Documents\\AI\\Projects\\petrobot\\petrel_manual.csv\"\n",
    "\n",
    "df = pd.read_csv(embeddings_path)\n",
    "df = df[['text','embedding']]"
   ]
  },
  {
   "cell_type": "code",
   "execution_count": 11,
   "metadata": {},
   "outputs": [
    {
     "data": {
      "text/html": [
       "<div>\n",
       "<style scoped>\n",
       "    .dataframe tbody tr th:only-of-type {\n",
       "        vertical-align: middle;\n",
       "    }\n",
       "\n",
       "    .dataframe tbody tr th {\n",
       "        vertical-align: top;\n",
       "    }\n",
       "\n",
       "    .dataframe thead th {\n",
       "        text-align: right;\n",
       "    }\n",
       "</style>\n",
       "<table border=\"1\" class=\"dataframe\">\n",
       "  <thead>\n",
       "    <tr style=\"text-align: right;\">\n",
       "      <th></th>\n",
       "      <th>text</th>\n",
       "      <th>embedding</th>\n",
       "    </tr>\n",
       "  </thead>\n",
       "  <tbody>\n",
       "    <tr>\n",
       "      <th>0</th>\n",
       "      <td>\\nWWeellccoommee ttoo tthhee PPeettrreell** hh...</td>\n",
       "      <td>[-0.0036606036592274904, -0.009110068902373314...</td>\n",
       "    </tr>\n",
       "    <tr>\n",
       "      <th>1</th>\n",
       "      <td>Petrel Exploration Geophysics \\nInterpret regi...</td>\n",
       "      <td>[-0.024511124938726425, 0.005252866540104151, ...</td>\n",
       "    </tr>\n",
       "    <tr>\n",
       "      <th>2</th>\n",
       "      <td>Imaging | Petrel Fault Analysis | Petrel Well ...</td>\n",
       "      <td>[-0.024689018726348877, -0.005831622518599033,...</td>\n",
       "    </tr>\n",
       "    <tr>\n",
       "      <th>3</th>\n",
       "      <td>Framework \\nPlug-ins for Petrel\\nLeverage pred...</td>\n",
       "      <td>[0.005327986553311348, -0.0005350260762497783,...</td>\n",
       "    </tr>\n",
       "    <tr>\n",
       "      <th>4</th>\n",
       "      <td>Petrel Geophysics \\nPerform rapid 2D and 3D se...</td>\n",
       "      <td>[-0.03281170502305031, 0.0006662339437752962, ...</td>\n",
       "    </tr>\n",
       "  </tbody>\n",
       "</table>\n",
       "</div>"
      ],
      "text/plain": [
       "                                                text  \\\n",
       "0  \\nWWeellccoommee ttoo tthhee PPeettrreell** hh...   \n",
       "1  Petrel Exploration Geophysics \\nInterpret regi...   \n",
       "2  Imaging | Petrel Fault Analysis | Petrel Well ...   \n",
       "3  Framework \\nPlug-ins for Petrel\\nLeverage pred...   \n",
       "4  Petrel Geophysics \\nPerform rapid 2D and 3D se...   \n",
       "\n",
       "                                           embedding  \n",
       "0  [-0.0036606036592274904, -0.009110068902373314...  \n",
       "1  [-0.024511124938726425, 0.005252866540104151, ...  \n",
       "2  [-0.024689018726348877, -0.005831622518599033,...  \n",
       "3  [0.005327986553311348, -0.0005350260762497783,...  \n",
       "4  [-0.03281170502305031, 0.0006662339437752962, ...  "
      ]
     },
     "execution_count": 11,
     "metadata": {},
     "output_type": "execute_result"
    }
   ],
   "source": [
    "df.head()"
   ]
  },
  {
   "cell_type": "code",
   "execution_count": 27,
   "metadata": {},
   "outputs": [],
   "source": [
    "# convert embeddings from CSV str type back to list type\n",
    "df['embedding'] = df['embedding'].apply(ast.literal_eval)"
   ]
  },
  {
   "cell_type": "code",
   "execution_count": 28,
   "metadata": {},
   "outputs": [],
   "source": [
    "# search function\n",
    "def strings_ranked_by_relatedness(\n",
    "    query: str,\n",
    "    df: pd.DataFrame,\n",
    "    relatedness_fn=lambda x, y: 1 - spatial.distance.cosine(x, y),\n",
    "    top_n: int = 100) -> typing.Tuple[typing.List[str], typing.List[float]]:\n",
    "    \"\"\"Returns a list of strings and relatednesses, sorted from most related to least.\"\"\"\n",
    "    query_embedding_response = openai.Embedding.create(\n",
    "        model=EMBEDDING_MODEL,\n",
    "        input=query,\n",
    "    )\n",
    "    query_embedding = query_embedding_response[\"data\"][0][\"embedding\"]\n",
    "    strings_and_relatednesses = [\n",
    "        (row[\"text\"], relatedness_fn(query_embedding, row[\"embedding\"]))\n",
    "        for i, row in df.iterrows()\n",
    "    ]\n",
    "    strings_and_relatednesses.sort(key=lambda x: x[1], reverse=True)\n",
    "    strings, relatednesses = zip(*strings_and_relatednesses)\n",
    "    return strings[:top_n], relatednesses[:top_n]"
   ]
  },
  {
   "cell_type": "code",
   "execution_count": 31,
   "metadata": {},
   "outputs": [
    {
     "name": "stdout",
     "output_type": "stream",
     "text": [
      "relatedness=0.806\n"
     ]
    },
    {
     "data": {
      "text/plain": [
       "'2. Surfaces \\n3. Property models'"
      ]
     },
     "metadata": {},
     "output_type": "display_data"
    },
    {
     "name": "stdout",
     "output_type": "stream",
     "text": [
      "relatedness=0.800\n"
     ]
    },
    {
     "data": {
      "text/plain": [
       "'Figure 5 \\nThe impact on the model becomes much clearer when a larger range is used for the modeling'"
      ]
     },
     "metadata": {},
     "output_type": "display_data"
    },
    {
     "name": "stdout",
     "output_type": "stream",
     "text": [
      "relatedness=0.793\n"
     ]
    },
    {
     "data": {
      "text/plain": [
       "'Velocity Modeling (Domain Conversion) \\nWell log upscaling'"
      ]
     },
     "metadata": {},
     "output_type": "display_data"
    },
    {
     "name": "stdout",
     "output_type": "stream",
     "text": [
      "relatedness=0.789\n"
     ]
    },
    {
     "data": {
      "text/plain": [
       "'Type \\nChoose how to model porosity heterogeneity in the simulation. You can choose from single or\\ndual porosity, or dual permeability models.'"
      ]
     },
     "metadata": {},
     "output_type": "display_data"
    },
    {
     "name": "stdout",
     "output_type": "stream",
     "text": [
      "relatedness=0.788\n"
     ]
    },
    {
     "data": {
      "text/plain": [
       "'Data Management \\nSave all the detailed analysis for each property for use later in the modeling process or when you\\nare updating your models at some later time.'"
      ]
     },
     "metadata": {},
     "output_type": "display_data"
    },
    {
     "name": "stdout",
     "output_type": "stream",
     "text": [
      "relatedness=0.787\n"
     ]
    },
    {
     "data": {
      "text/plain": [
       "'(Zoom) \\nDragging the cap towards you makes the model come closer\\nPushing the cap from you makes the model move away'"
      ]
     },
     "metadata": {},
     "output_type": "display_data"
    },
    {
     "name": "stdout",
     "output_type": "stream",
     "text": [
      "relatedness=0.782\n"
     ]
    },
    {
     "data": {
      "text/plain": [
       "'Facies Modeling Petrophysical Modeling Data Analysis Uncertainty Analysis Optimization \\nWorkflow editor'"
      ]
     },
     "metadata": {},
     "output_type": "display_data"
    },
    {
     "name": "stdout",
     "output_type": "stream",
     "text": [
      "relatedness=0.782\n"
     ]
    },
    {
     "data": {
      "text/plain": [
       "'History Matching. \\nWell design in 3D. Digitizing, editing and visualizing of well trajectories based on the\\ngenerated geological models. Output spread sheets with detailed well report and synthetic\\nwell logs.\\nWell Optimizer to create a series of cost-dependant realizations based on Target points and\\ncost model.\\nImproved documentation and reporting of the project work through tight integration with\\ndesktop tools like PowerPoint, Word and Excel.'"
      ]
     },
     "metadata": {},
     "output_type": "display_data"
    },
    {
     "name": "stdout",
     "output_type": "stream",
     "text": [
      "relatedness=0.781\n"
     ]
    },
    {
     "data": {
      "text/plain": [
       "\"Workflow Editor \\nThe Workflow editor has several functions. Two of the most important to allow rapid updates of\\nmodels and to perform batch operations on input data. A workflow for rebuilding the model can be\\ngenerated at the push of a button and edited as required before running, recreating the model in\\na single operation. Any changes in the input data will be taken into account. Batch operations on\\ninput data are created intuitively using an object orientated programming language based on\\nPetrel's user interface. See Workflow editor for details.\""
      ]
     },
     "metadata": {},
     "output_type": "display_data"
    },
    {
     "name": "stdout",
     "output_type": "stream",
     "text": [
      "relatedness=0.781\n"
     ]
    },
    {
     "data": {
      "text/plain": [
       "'Interactive Facies Modeling \\nIn interactive facies modeling, discrete 3D properties can be edited or made from scratch\\ninteractively using various tools. It works almost like a drawing tool, where you can switch\\nbetween different drawing styles like pencil, brush or airbrush and fill the facies bodies directly\\ninto the 3D grid. In this way, a completely new facies property can be made and used to condition\\nthe petrophysical modeling.\\nIn the image above is shown an example of a property grid of facies model with channels.\\nTools for interactive facies modeling\\nWhen the Facies modeling is active, a set of icons becomes available in the Function bar. These\\nare divided into property tools and property actions. Note that there is no undo option for these\\ntools and that it is wise to make a copy of the property before starting.\\nThe Facies modeling process dialog has a tab (Edit hints tab) with some hints concerning\\nsome of these tools.\\nFacies modeling Tools bar\\nView Mode - Cursor mode to move the view in the Display window.\\nMagnify (shortcut key Z) - Works in a 2D window and when orthogonal view is turned on in\\nthe 3D window. Click on the icon, then click and drag in the Display window.\\nMeasure Distance (shortcut key D) - Will measure the 2D and 3D distance between two\\ndifferent points in the Display window. Click on the icon, and then click on a point (object) in the\\nDisplay window. When dragging the cursor from that point, the distance is measured and\\ndisplayed interactively. The distance and the direction will be given in project units.\\nManipulate Plane - Only used with a General Intersection. When active, the intersection can\\nbe moved around using the cursor. PgUp and PgDn will move the General Intersection along the\\nnormal; the cursor and the right and left arrow keys will rotate it around the Z-axis. Holding down\\nthe Ctrl key and moving the cursor can also rotate the General Intersection.\\nPick/Select Mode - Cursor mode to pick/select items in the Display window.\\nPencil - Select facies first, then activate the pencil and click on the cells you want to change to\\nthe selected facies. This will only affect single cells.\\nBrush - Works together with all the property actions. Define the property actions before using\\nthe brush. When \"painting\" the model with the brush, the effect will depend on the property\\naction settings.\\nAirbrush - Select facies first and then use the airbrush to \"spray\" the model with the selected\\nfacies. This will only affect the top layer.\\nFill - Select facies first, then activate this tool and click on the model to edit the facies in a\\nspecific layer.\\nSelect facies code - Click on this tool, then click on a facies in the Display window. This is\\nnow the active facies, i.e. the one that will be painted in when using the brush for example.\\nInteractive facies modeling actions\\nRefresh - updates the filter after it has been redefined.\\nChange Visible Only - if the filter and this tool are active, changes made with any other tools\\nwill only affect visible cells - not those hidden by the filter.\\nChange Inside Zone Only - limits the modifications to the zone in which the action was\\nstarted i.e. the zone clicked on with the brush or other painting tool.\\nSelect Facies - click on this tool to get a sub-menu from which you can activate a facies.\\nSelect Brush Radius - click on this tool to get a sub-menu from which you can define how\\nwide the influence of the brushes should be. The radius varies between 1 and 8 grid cells.\\nSelect Height - click on this tool to get a sub-menu from which you can define the\\ndepth/height of the influence of the brush, this varies between 1 and 8 cells, within a zone or the\\nentire model.\\nSelect Profile - click on this tool to get a sub-menu from which you can define the influence\\nprofile of the brush in the vertical direction (rectangle, pipe, lower/upper half pipe).\\nSelect Brush Type - define whether the brush should paint in squares or circles.\\nSelect Origin - define whether the facies thickness should be extended downwards, upwards\\nor both ways from the starting point.\\nInteractive Facies modeling process\\nWhen working with interactive facies modeling, it is possible to start with a model in which all the\\ngrid cells are set to zero and then build up the distribution of facies. It is also possible to start with\\na model that already has some type of facies distribution (e.g. from stochastic simulation) and\\nadjust it according to preference.\\nHow to create a new facies property\\n1. Open the properties calculator\\n2. Change the template to Facies\\n3. Type in the following formula: NewFacies=0'"
      ]
     },
     "metadata": {},
     "output_type": "display_data"
    },
    {
     "name": "stdout",
     "output_type": "stream",
     "text": [
      "relatedness=0.780\n"
     ]
    },
    {
     "data": {
      "text/plain": [
       "'CURVE \\nKeyword above'"
      ]
     },
     "metadata": {},
     "output_type": "display_data"
    },
    {
     "name": "stdout",
     "output_type": "stream",
     "text": [
      "relatedness=0.780\n"
     ]
    },
    {
     "data": {
      "text/plain": [
       "'Well Model Options \\nSpecify options for the well definition.'"
      ]
     },
     "metadata": {},
     "output_type": "display_data"
    },
    {
     "name": "stdout",
     "output_type": "stream",
     "text": [
      "relatedness=0.778\n"
     ]
    },
    {
     "data": {
      "text/plain": [
       "'Fault Modeling \\nThe process of Fault Modeling defines the faults in the geological model which will form the basis\\nfor generating the 3D grid. These faults will define breaks in the grid; lines along which the\\nhorizons inserted can be offset later. The offset which occurs is entirely dependant upon the input\\ndata, so modeling reverse faults is just as easy as modeling normal faults. All pillars in the 3D grid\\nwill be extended to meet the top and base of the horizons defining your grid (in Make Horizon and\\nMake Zones processes), so make sure all of your fault models are modeled above the top and\\nbase horizon. A modeled fault must never cross another fault without being connected.\\nFigure c (left) and d. In figure c the horizons has been inserted into the 3D grid. Note that the\\npillars in the grid have been cut by the top and base horizon in the grid (compare the\\nintersections with figure b above). Figure d shows the result after zones have been inserted into\\nthe model. The 3D grid is displayed with horizons and edges.'"
      ]
     },
     "metadata": {},
     "output_type": "display_data"
    },
    {
     "name": "stdout",
     "output_type": "stream",
     "text": [
      "relatedness=0.778\n"
     ]
    },
    {
     "data": {
      "text/plain": [
       "'Fluid Description \\nThe fluid description will impact the CPU time. The fastest model will be a low compressible two-\\nphase model (oil/water). The low compressibility will cause the pressure solution to be easier to\\nsolve and the requirement for time steps for accuracy is low. In addition, if the mobility and\\ndensities of the fluids are close, one time step might still result in a reasonably accurate (also\\nfrom engineering perspective, that is, standard simulation) simulation result. For a one million-\\ngrid cell model, one time step might require 3 minutes of computer time with a state-of-the-art'"
      ]
     },
     "metadata": {},
     "output_type": "display_data"
    },
    {
     "name": "stdout",
     "output_type": "stream",
     "text": [
      "relatedness=0.778\n"
     ]
    },
    {
     "data": {
      "text/plain": [
       "'Moving Average \\nOther algorithms available are Assign values , Neural net and User defined algorithm .\\nDetailed information Petrophysical Modeling'"
      ]
     },
     "metadata": {},
     "output_type": "display_data"
    },
    {
     "name": "stdout",
     "output_type": "stream",
     "text": [
      "relatedness=0.777\n"
     ]
    },
    {
     "data": {
      "text/plain": [
       "'Object Modeling \\nTruncated Gaussian with trends\\nTruncated Gaussian simulation\\nSequential Indicator simulation\\nMulti-point facies simulation\\nThe only deterministic algorithm for Facies modeling is Indicator kriging .\\nOther algorithms available are Assign values , Neural net and User defined algorithm .\\nDetailed information Facies Modeling\\nPetrophysical Modeling algorithms\\nThe Stochastic algorithms include:\\nSequential Gaussian simulation\\nGaussian random function simulation\\nAlthough there are a number of options allowing the user to alter how they are done, such as using\\nbivariate transforms, conditioning via collocated co-kriging, locally varying mean and using trends\\nby pre/post processing.\\nThe Deterministic algorithms for Estimation include:\\nKriging interpolation'"
      ]
     },
     "metadata": {},
     "output_type": "display_data"
    },
    {
     "name": "stdout",
     "output_type": "stream",
     "text": [
      "relatedness=0.777\n"
     ]
    },
    {
     "data": {
      "text/plain": [
       "'Framework Petrel Facies Modeling \\nNew methods to model complex, geological features and connectivity\\nModel your pixel- or object-based stochastic facies using deterministic techniques. Condition the\\nfacies to a seismic property or trend surfaces with the data analysis process, or use objects\\nsampled directly from seismic with the volume extraction tool.'"
      ]
     },
     "metadata": {},
     "output_type": "display_data"
    },
    {
     "name": "stdout",
     "output_type": "stream",
     "text": [
      "relatedness=0.777\n"
     ]
    },
    {
     "data": {
      "text/plain": [
       "'Petrophysical Modeling \\nPetrophysical modeling is the interpolation or simualtion of continuous data (e.g. porosity,\\npermeability, etc.) throughout the model grid. In Petrel Deterministic (estimation or interpolation)\\nand Stochastic methods are available for modeling the distribution of continuous properties in a\\nreservoir model.\\nWell data, facies realization, variograms, a secondary variable and/or trend data can be used as\\ninput and various user settings are available. Usually, upscaled well logs with continuous\\nproperties is the dataset available in the model grid. Filters and settings can be used to model\\ndifferent parts of the grid separately (e.g. filter on facies, values, index, zones and segments and\\nLocal model updated settings).\\nSee General information on property modeling for information on what to consider when\\nperforming property modeling. Which Modeling Algorithm provides some information on the\\navailable algorithms. Details and examples of the various algorithms can be found in Interpolation\\nAlgorithms section.'"
      ]
     },
     "metadata": {},
     "output_type": "display_data"
    },
    {
     "name": "stdout",
     "output_type": "stream",
     "text": [
      "relatedness=0.777\n"
     ]
    },
    {
     "data": {
      "text/plain": [
       "'Stochastic \\nObject modeling allows you to populate a discrete facies model with different bodies of\\nvarious geometry, facies code and fraction. Object Modeling\\nSequential indicator simulation allows a stochastic distribution of the property, using\\nthe pre-defined histogram. Directional settings, such as variogram and extensional trends,\\nare also honored. Sequential indicator simulation\\nTruncated Gaussian Simulation is a fast modeling technique for discrete properties,\\nwhere the facies are known to be sequential and the variograms defining each of the facies\\nare the same. It is most commonly used in carbonate environments, and the method is\\npixel based; hence, it can easily deal with large amounts of input data, specified global\\nfractions, 1D, 2D or 3D trends. Truncated Gaussian Simulation\\nTruncated Gaussian with trends allows a stochastic distribution of the facies based on a\\ngiven transition between facies and a trend direction. These trends are then converted into\\nprobabilities and the model is run using the standard Truncated Gaussian technique, which\\nallows you to specify global fractions for each of the facies. The trend shape and direction\\nare set interactively in the dialog and a range given for the variogram. Truncated Gaussian\\nwith trends\\nMulti-point facies simulation is a pixel-based algorithm based on Multi Point Statistics\\n(MPS) technique to create facies models which can look like object models. The principal\\nidea of MPS is the description of the spatial correlation from one-to-multiple points at the\\nsame time. As opposed to the two-point statistics (point - to - point like Kriging or\\nStochastic Simulation), the variogram will be replaced by a training image (2D or 3D). This\\ntraining image describes the geological facies in relative position to each other. Multi-point\\nfacies simulation\\nHierarchical facies modeling is a technique that allows to a facies model be constrained\\nby a second level of facies model. Hierarchical Facies modeling'"
      ]
     },
     "metadata": {},
     "output_type": "display_data"
    },
    {
     "name": "stdout",
     "output_type": "stream",
     "text": [
      "relatedness=0.777\n"
     ]
    },
    {
     "data": {
      "text/plain": [
       "'Streamline Time Dependency \\nEven though a streamline simulation can be significantly faster than standard simulations, it can\\nstill be a time consuming affair if we want to model in detail all physical properties available in\\nFrontSim. Some of the most important time dependencies are discussed below.\\nNumber of Cells\\nThe size of the model represented by the number of cells, will impact the time it will take to\\ncompute the pressure and move the fluids along. For example, for a model with 1 million grid cells\\nit might take up to several minutes to compute the pressure and move the fluids one time step,\\ndepending somewhat on the complexity of the fluid description and the computational speed of\\nthe processor of your PC. Also, the memory requirement might be in the order of one gigabyte.'"
      ]
     },
     "metadata": {},
     "output_type": "display_data"
    },
    {
     "name": "stdout",
     "output_type": "stream",
     "text": [
      "relatedness=0.776\n"
     ]
    },
    {
     "data": {
      "text/plain": [
       "'Interactive \\nAllows the user to paint facies directly on the 3D model. The Facies painting tools are stored in\\nthe Function bar for Facies moldeing (see Interactive Facies Modeling).'"
      ]
     },
     "metadata": {},
     "output_type": "display_data"
    },
    {
     "name": "stdout",
     "output_type": "stream",
     "text": [
      "relatedness=0.776\n"
     ]
    },
    {
     "data": {
      "text/plain": [
       "'Tracking \\nDirect data manipulation'"
      ]
     },
     "metadata": {},
     "output_type": "display_data"
    },
    {
     "name": "stdout",
     "output_type": "stream",
     "text": [
      "relatedness=0.775\n"
     ]
    },
    {
     "data": {
      "text/plain": [
       "\"Object Modeling \\nObject modeling allows you to populate a discrete facies model with objects which are\\ngenerated and distributed stochastically. All geometrical inputs controlling the body shape\\n(width/thickness, etc.) can either be defined deterministically, follow a defined statistical\\ndistribution or be assigned using a trend map.\\nThe background can be assigned a given facies code or an existing facies model. Different\\nerosion/replacement rules can be applied to different bodies. Vertical and areal trends can be\\nused as options for defining the spatial distribution.\\nA trial-and-error approach is probably the best way to begin Object modeling. Start with a\\nsingle object and deterministic parameter settings to get a feel for sizes and shape. Then\\ngradually build in more variation and complexity.\\nHow object modeling works\\nFor each body in the list of objects, the body will first be matched according to the wells, then if\\nthe global fraction is less than requested, additional objects will be inserted until the global\\nfraction is reached.\\nMatch the wells\\n1. Find which of the upscaled cells have the same facies code as the body.\\n2. Make a body with the given facies and geometry for the body, actual geometry parameters\\nare chosen statistically according to the settings.\\n3. Choose a random insertion point on the body.\\n4. Calculate the body thickness at the insertion point.\\n5. Search for that thickness among the upscaled wells still left to be honored (thicknesses\\ngreater than the body thickness are OK as several objects can be stacked on top of one\\nanother. If this is done you will see the 'Splitting' comment in the message log).\\n6. Ensure that the body about to be inserted does not conflict with other upscaled cells.\\n7. If the body passes these checks, insert the body.\\n8. Repeat 2-7 until all the chosen facies codes have been accounted for.\\nBodies are inserted until the global fraction is satisfied. They can be inserted into wells as long as\\nthey are not conflicting with the well data. Make a body with the given facies and geometry for\\nthe body, actual geometry parameters are chosen statistically according to the settings. Special\\nconsiderations for matching well data:\\nTrends will not be used, since well data has higher priority.\\nGlobal fraction of the facies will not be done, since well data has higher priority.\\nAway from the wells\\nBodies are inserted until the global fraction is satisfied. They can be inserted into wells as long as\\nthey are not conflicting with the well data. Make a body with the given facies and geometry for\\nthe body, actual geometry parameters are chosen statistically according to the settings. Special\\nconsiderations for matching well data:\\n1.\\n2.\\n1. Make a body with the given facies and geometry for the body, actual geometry parameters\\nare chosen statistically according to thesettings.\\n2. Choose a random insertion point on the body.\\n3. Choose a random insertion point in the model (can be outside the grid). If trends are given,\\nthen calculate the probability of having the body at the insertion point. Get a random\\nnumber between 0 and 1 and if this number is greater than the probability, reject the body.\\n4. Check if there are conflicts with upscaled cells and the facies replacement rules.\\n5. If the body passes these checks, insert the body.\\n6. Loop until the fraction of the body is higher than the target global fraction.\\nIf the loop is repeated several times without managing to insert a body, it will stop and the\\nrequested global fraction will not be reached.\\nThe order of the bodies in the dialog is important. Although the first bodies may have been\\nmatched with the correct global fraction, bodies lower down in the list may partly replace the\\nearlier bodies, decreasing the global fraction.\\nGeneral notes\\nAll geometrical input (width/thickness...) for the shape of the body is generated according to the\\ninput you have given. For Triangular, Uniform, and Normal distributions, the values will be chosen\\nrandomly. The real width/thickness of the body will be rounded to the nearest number of cells,\\nbased on the average cell size (width, length and thickness) for the specific zone. This will\\nintroduce a resampling error, but it will be negligible in light of the strong stochastic character of\\nthe algorithm, which introduces large variability anyway (this approach also speeds up the\\nalgorithm by a factor of 10).\\nSettings in Object Modeling\\nIf Object Modeling is chosen for a zone, four sub-tabs will appear:\""
      ]
     },
     "metadata": {},
     "output_type": "display_data"
    },
    {
     "name": "stdout",
     "output_type": "stream",
     "text": [
      "relatedness=0.775\n"
     ]
    },
    {
     "data": {
      "text/plain": [
       "\"Facies Modeling (Petrel Workflow) \\nYou can perform general stochastic object modeling such as, 'Sequential Indicator Simulation',\\n'Object modeling' (including fluvial channels and adaptive channels), 'Truncated Gaussian\\nSimulation' or 'users own algorithm' to assign values. In addition a more complex facies model\\ncan be built using the 'Multi-Point Facies Simulation' method. The petrophysical properties can be\\nconditioned later on to the facies model. You can also condition a facies model to a previously\\ngenerated facies model (hierarchical modeling). Petrel also supports the ability to manually draw\\nand edit facies shapes using standard drawing tools. This makes it easy to put your ideas into a\\n3D model. Details of stochastic and deterministic modeling can be found in Facies Modeling and\""
      ]
     },
     "metadata": {},
     "output_type": "display_data"
    },
    {
     "name": "stdout",
     "output_type": "stream",
     "text": [
      "relatedness=0.775\n"
     ]
    },
    {
     "data": {
      "text/plain": [
       "'Make Fluid Model Dialog Settings \\nThe Make fluid model process allows you to enter the parameters required to create a black oil\\nfluid model based on correlations or a compositional fluid model. It also allows you to edit the\\nphase properties and initial conditions of an existing fluid model that has been imported.\\nAn area at the top of the process dialog gives you the option to create a new model or edit an\\nexisting model. Once you have selected to create a new fluid, you need to select which fluid model\\nto create. You cannot convert between fluid models.\\nThe Use defaults button allows a selection of example fluids to be easily created. Note that these\\nfluids are artificial - you should always obtain real fluid properties for a reservoir study by\\nobtaining a fluid sample and carrying out a laboratory analysis.\\nThe icon on any tab may change to a warning triangle . This indicates that some/all of the data\\non that tab is incomplete or in error. Move the mouse over the warning triangle icon and a tool tip\\nwill explain the problem.\\nWhen creating a black oil fluid, the following tabs may be used:'"
      ]
     },
     "metadata": {},
     "output_type": "display_data"
    },
    {
     "name": "stdout",
     "output_type": "stream",
     "text": [
      "relatedness=0.775\n"
     ]
    },
    {
     "data": {
      "text/plain": [
       "'Deterministic \\nall channels will have the same value. However, adaptive channels will naturally drift around\\nthis value, so that a single deterministic value does not mean that the channel will be\\nperfectly regular.'"
      ]
     },
     "metadata": {},
     "output_type": "display_data"
    },
    {
     "name": "stdout",
     "output_type": "stream",
     "text": [
      "relatedness=0.774\n"
     ]
    },
    {
     "data": {
      "text/plain": [
       "'~Curve \\nKeyword below'"
      ]
     },
     "metadata": {},
     "output_type": "display_data"
    },
    {
     "name": "stdout",
     "output_type": "stream",
     "text": [
      "relatedness=0.774\n"
     ]
    },
    {
     "data": {
      "text/plain": [
       "'Geobody Modeling \\nAssign between surfaces and polygons\\nCells cut by surface\\nConstant value\\nConstant or surface in segment and zones\\nNormal distributed random values\\nUniform distributed random values\\nAbove contact\\nCell angle\\nCell height\\nAbsolute or relative depth\\nDistance to an object\\nCell inside out\\nSeismic resampling\\nCell volume'"
      ]
     },
     "metadata": {},
     "output_type": "display_data"
    },
    {
     "name": "stdout",
     "output_type": "stream",
     "text": [
      "relatedness=0.773\n"
     ]
    },
    {
     "data": {
      "text/plain": [
       "'Benefits \\nEfficiently rank, screen and visualize multiple sensitivity runs, combining static and dynamic\\ninformation to create more reliable models in less time.\\nOptimize well placements by combining streamline analysis with the detailed static model to\\nenhance sweep efficiency.\\nValidate upscaled reservoir models with dynamic data by understanding grid orientation\\nissues, thereby improving the quality of the model used for reservoir simulation.\\nIdentify flow patterns\\nWhen heterogeneity and reservoir uncertainties are dominating the fluid flow behavior in your\\nreservoir, stochastic modeling techniques are used to create multiple views of your fine scale\\ngeological model. With FrontSim, you can dynamically identify the tortuous flow paths by visually\\ndepicting the injector-to-producer streamline bundles and make ranking decisions based on\\nproduction history, not static methods alone.\\nImprove your reservoir management\\nIdentifying optimal drilling locations is not only based on engineering constraints, but also on\\nreservoir heterogeneity. Running FrontSim on your fine scale geological model lets you identify\\ninjectors not contributing to production, or producers that are cycling injected water. Such\\nanalysis lets you make development and field management decisions to optimize sweep, improve\\nultimate recovery and minimize injection costs.\\nBuild better quality models\\nIdentifying the representative model from stochastic analysis is challenging enough. Fine scale\\ngeological models must then be upscaled to reduce the number of cells for practical full-field\\nsimulation. The knowledge gained using FrontSim can directly impact ECLIPSE reservoir\\nsimulation models, resulting in more reliable models with better predictive forecasting.'"
      ]
     },
     "metadata": {},
     "output_type": "display_data"
    },
    {
     "name": "stdout",
     "output_type": "stream",
     "text": [
      "relatedness=0.773\n"
     ]
    },
    {
     "data": {
      "text/plain": [
       "\"Compressibility \\nAnother factor is the compressibility introduced when using a three-phase oil/water/gas model. To\\nachieve close to engineering accuracy, we will have to enable the gravity segregation and use\\nmany time steps. In addition, the non-linearity of the model will cause more computational effort\\nper time step. Note that FrontSim's streamline concept will allow the user to use only one long\\ntime step (possibly years), even for this type of model, but the engineering accuracy defined by\\nstandard simulation will be degraded.\\nThe resulting set of partial differential equations cannot be solved by any analytical means due to\\nits typical complexity in geometry, rock property and fluid description. Instead, a so called\\nnumerical approximation is used. Many types of numerical methods are available to solve these\\nequations. Most use some form of a finite difference/volume method that divides the geometry\\ninto many small subsections called cells containing rock and fluid properties. These cells cover the\\nwhole domain and the fluid flow is represented as relationships between these cells. These\\nrelationships result in an equation system with a number of unknowns on the order of number of\\ncells or higher. This equation system will have to be solved for every time step during the\\nsimulation. These methods might require very many small time steps, and because of this, a\\nreservoir simulation process can be a very time consuming affair depending on the geological\\ndetail represented and fluid property modeled.\\nMaking a Fluid Model\\nThe Make fluid model process allows you to generate black oil fluid models from correlations\\nand to create compositional fluid models.\\nFluid models are used by the simulator to define how physical properties of the fluid such as\\ndensity and viscosity vary with pressure and temperature. Fluid models may also define how the\\ninitial conditions in the simulator are to be calculated, by specifying the fluid contacts, pressure,\\nand compositional variation with depth.\\nPetrel supports three types of fluid model: black oil, compositional and thermal live oil. A black oil\\nfluid model specifies values of physical properties of oil and gas in tables. A compositional fluid\\nmodel represents the hydrocarbon fluid by a set of components (typically 6-12 for reservoir\\nsimulation); an equation of state is then used to determine the physical properties of mixtures of\\nthese components as a function of pressure and temperature and the properties of the individual\\ncomponents. A thermal live oil model describes the fluid by a set of components, using K-values\\nto define equilibrium. All types of fluid model can incorporate water, with its properties\\nrepresented as a simple function.\\nThe most reliable way to obtain this information is from a reservoir fluid study using bottom hole\\nor reconstituted fluid samples. Experimental results are processed using a dedicated package such\\nas Schlumberger's PVTi. Fluid models created in this way can be imported into Petrel and used in\\nsimulations.\\nIf laboratory data is not available, both types of fluid model may be created in Petrel from\\nminimal data input. Note that in Petrel while you can create an equation of state, you cannot tune\\nit to match laboratory measurements - for that, you need to use PVTi and import the resulting\\nequation of state into Petrel.\\nData for initial reservoir conditions may also be entered in the Make fluid model process. Together\\nwith the fluid properties and saturation functions, this allows determination of the initial fluid\\ndistribution in the reservoir.\\nNote: Rock compressibility data is entered using the Make Rock Physics Functions process .\\nThe work flows are described in subsequent sections:\""
      ]
     },
     "metadata": {},
     "output_type": "display_data"
    },
    {
     "name": "stdout",
     "output_type": "stream",
     "text": [
      "relatedness=0.772\n"
     ]
    },
    {
     "data": {
      "text/plain": [
       "'Base Case Model \\nThe first step in setting up an uncertainty or optimization workflow is a selection of the base case\\nmodel. The Uncertainty and optimization process will create multiple realizations or\\nmodifications of the base case. The base case should be any of the following:\\nVolume calculation\\nSimulation case:\\nECLIPSE 100 simulation\\nECLIPSE 300 simulation\\nFrontSim simulation\\nINTERSECT simulation\\nthird-party simulation\\nThe multiple realizations created by an uncertainty run contain various model responses to the\\ndesigned changes in the input parameters (note: another source of model responses may be\\nobjective functions or composite expressions). The primary difference between the two types of\\nmodels is the scalar vs. vector form of their output quantities:\\nVolume calculation represents a static model which produces single-value responses.\\nSimulation case represents a dynamic model which produces time-based vector responses.\\nThe base case model must be properly defined by running the Volume calculation or the\\nDefine simulation case process, respectively. Alternatively, the simulation case may be\\nimported from an external keyword case, as described in Imported Simulation Case (note: it is\\nnot necessary to convert the imported case to a Petrel case).\\nTo set up the workflow, run the Uncertainty and optimization process, locate the base case in\\nthe Cases pane and drop it into the Base case tab using the blue arrow.\\nHint : When any base case is dropped into the process for the first time, the following warning\\nappears which may be skipped next time by pressing Yes:'"
      ]
     },
     "metadata": {},
     "output_type": "display_data"
    },
    {
     "name": "stdout",
     "output_type": "stream",
     "text": [
      "relatedness=0.772\n"
     ]
    },
    {
     "data": {
      "text/plain": [
       "'Common Features \\nAll of the calculators, with the exception of the Dynamic Data calculator, behave in more or less\\nthe same way and follow the same basic rules and syntax.'"
      ]
     },
     "metadata": {},
     "output_type": "display_data"
    },
    {
     "name": "stdout",
     "output_type": "stream",
     "text": [
      "relatedness=0.772\n"
     ]
    },
    {
     "data": {
      "text/plain": [
       "'Petrel Petrophysical Modeling \\nAssign petrophysical values to cells in a 3D grid; use a number of different deterministic and\\nstochastic modeling techniques.'"
      ]
     },
     "metadata": {},
     "output_type": "display_data"
    },
    {
     "name": "stdout",
     "output_type": "stream",
     "text": [
      "relatedness=0.772\n"
     ]
    },
    {
     "data": {
      "text/plain": [
       "'Simplex Non-Linear Optimizer \\nSimplex non-linear is an enhanced version of the Simplex optimizer which additionally\\nsupports non-linear constraints among the control variables and model responses.'"
      ]
     },
     "metadata": {},
     "output_type": "display_data"
    },
    {
     "name": "stdout",
     "output_type": "stream",
     "text": [
      "relatedness=0.771\n"
     ]
    },
    {
     "data": {
      "text/plain": [
       "'Black Oil Fluid Model Workflow Compositional Fluid Model Workflow Thermal Fluid Model Workflow Black Oil Fluid Model Workflow \\nYou can add new black oil fluid models, and update or delete existing fluid models. Once created\\nthe fluid model will appear in the Fluids folder on the Input pane. See Fluid Model (Settings)\\nfor details of the settings page.\\nHow to Make a New Black Oil Fluid Model from'"
      ]
     },
     "metadata": {},
     "output_type": "display_data"
    },
    {
     "name": "stdout",
     "output_type": "stream",
     "text": [
      "relatedness=0.771\n"
     ]
    },
    {
     "data": {
      "text/plain": [
       "'Geophysics. \\nThe objects to be depth converted are dropped into the dialog and the process automatically\\ndetects their native domain. At the same time, it determines the direction of the conversion based\\non the selected velocity model. Clicking Apply or Ok will calculate a new virtual seismic attribute\\nfor each of the chosen objects.\\nDomain convert by active velocity model:\\nSeismic data (3D cube or 2D line) can be domain converted individually by right-clicking on the\\nobject and selecting Domain convert by active velocity model while the velocity model is\\nactive.'"
      ]
     },
     "metadata": {},
     "output_type": "display_data"
    },
    {
     "name": "stdout",
     "output_type": "stream",
     "text": [
      "relatedness=0.771\n"
     ]
    },
    {
     "data": {
      "text/plain": [
       "'Exponential \\nThis model reaches its sill (c) asymptotically and the effective range (a) is defined as the distance\\nat which (h) = 0.95c.\\nc = Sill - Nugget.'"
      ]
     },
     "metadata": {},
     "output_type": "display_data"
    },
    {
     "name": "stdout",
     "output_type": "stream",
     "text": [
      "relatedness=0.771\n"
     ]
    },
    {
     "data": {
      "text/plain": [
       "'Figure 4 \\nThe first model shows that a constant value is the norm, while the second has the trend as a\\nbackground with the data points modeled as anomalies on that. If the trend had been perfect, the\\nproperty would have been completely smooth with no anomalies at the data points.\\nThis also applies when using a stochastic algorithm, although the differences are more difficult to\\nsee. Again, if the trend had been perfect, then the property on the right would have been\\ncompletely smooth with no anomalies anywhere (Figure 5).'"
      ]
     },
     "metadata": {},
     "output_type": "display_data"
    },
    {
     "name": "stdout",
     "output_type": "stream",
     "text": [
      "relatedness=0.771\n"
     ]
    },
    {
     "data": {
      "text/plain": [
       "'Dynamic Data Calculator (Summary Vectors) \\nThe Dynamic data calculator is used to perform operations on summary vectors that are on\\nresults from simulation cases. You can access this calculator by right-clicking the Dynamic data\\nsubject in the Views folder on the Results pane, see 2D Summary Results Calculator .\\nPractical Use of the Calculator\\nThe calculator has three modes that are used depending on the type of calculation performed:\\nNormal calculator mode\\nSingle number mode\\nMultiple number mode\\nFunctions and surfaces (as 2D functions) can also be used in the calculators, and for repetitive\\noperations, the input text for the file can be saved to create a macro which can be re run at any\\ntime.\\nNote that when using the logical statements And and Or, remember to use a space both\\nbefore and after the statement.'"
      ]
     },
     "metadata": {},
     "output_type": "display_data"
    },
    {
     "name": "stdout",
     "output_type": "stream",
     "text": [
      "relatedness=0.771\n"
     ]
    },
    {
     "data": {
      "text/plain": [
       "'Petrel Fracture Modeling \\nVisualize and analyze fractured reservoirs\\nModeling flow in fractured reservoirs is difficult. The challenge requires a software solution that\\nsupports tight integration between the static and dynamic reservoir modeling disciplines and\\nprovides a way to visualize and analyze many data types that may be direct or indirect indicators\\nof fractures.\\nOne of the difficulties with a traditional discrete fracture modeling workflow is that the number of\\nfractures to be modeled in the field can be extremely large. Trying to represent all of them\\nexplicitly in the model is often hampered by system memory limitations. Even if this is achieved,\\ncalibration of fracture modeling parameters to flow simulation results demand iterative steps in a\\nworkflow, and then computational performance becomes a limiting factor.\\nPetrel 2010.1 proposes an original numerical representation of the fracture networks so that an\\naccurate calculation of the contribution to the fluid flow of all the fracture sets are present in the\\nreservoir model. You can now create a hybrid model where the bigger and more important\\nfractures are modeled explicitly as discrete patches (Discrete Fracture Network - DFN), and the\\nresidual part of the distribution (smaller fractures) is statistically represented as grid properties\\n(implicit fracture model - IFM).'"
      ]
     },
     "metadata": {},
     "output_type": "display_data"
    },
    {
     "name": "stdout",
     "output_type": "stream",
     "text": [
      "relatedness=0.770\n"
     ]
    },
    {
     "data": {
      "text/plain": [
       "'Expressions \\nTo create new data, the Dynamic Data Calculator needs some input data and the relationship\\nbetween this data. This is broken down into two parts. First, a text expression describes the\\nformula to be used to relate a number of variables and is entered into the expression text box.\\nThis expression is parsed to extract the variables and then these variable names are bound to\\nparticular items of data. Unlike the other calculators the name of the variables is not important as\\nthey do not relate directly to the data, but have to be bound to data in a separate step.\\nFor example, a simple expression would be \"LHS = a+b\" where the output will be stored in the\\nvariable \"LHS\" and will equal the sum of the data in the input \"a\" and \"b\". Once the text of the\\nexpression has been entered, hit return to parse the text or click the Parse Expression button.\\nIt is possible for the calculator to return a single number, for instance finding the maximum value\\nin a vector, in which case there is no \"=\" character in the expression text. More commonly a\\nvector is being created in which case the variable to the left of the \"=\" is considered to be the\\noutput variable. This has slightly different rules when binding this variable, see Binding Expression'"
      ]
     },
     "metadata": {},
     "output_type": "display_data"
    },
    {
     "name": "stdout",
     "output_type": "stream",
     "text": [
      "relatedness=0.770\n"
     ]
    },
    {
     "data": {
      "text/plain": [
       "'Geometrical Modeling \\nGeometrical modeling is the process where properties can be generated by using pre-defined\\nsystem variables, such as cell volume, seismic resampling, zone index, etc. Each cell will get a\\nnumerical value corresponding to the selected system variable. These properties can be important\\nin processes such as volume calculations and mathematical operations between petrophysical\\nproperties. Geometrical modeling is not restricted to simple geometrical properties, it also covers\\nmore complex property distributions such as:\\nRandom/Normal distribution\\nZones/segments\\nFaults/segments'"
      ]
     },
     "metadata": {},
     "output_type": "display_data"
    },
    {
     "name": "stdout",
     "output_type": "stream",
     "text": [
      "relatedness=0.770\n"
     ]
    },
    {
     "data": {
      "text/plain": [
       "'2. Hints \\nHints for using the interactive facies editing tools and the property player.\\nMake model tab\\nAt the top of the Make model tab are the basic settings for facies modeling:'"
      ]
     },
     "metadata": {},
     "output_type": "display_data"
    },
    {
     "name": "stdout",
     "output_type": "stream",
     "text": [
      "relatedness=0.770\n"
     ]
    },
    {
     "data": {
      "text/plain": [
       "'View Mode - Flying \\nThe fly function is also borrowed from Inside Reality. This feature allows the user to travel\\nthrough the graphical scene as if they were Flying through it. This operation is typically mapped to\\nthe joystick of the input device, see appendix 8.'"
      ]
     },
     "metadata": {},
     "output_type": "display_data"
    },
    {
     "name": "stdout",
     "output_type": "stream",
     "text": [
      "relatedness=0.770\n"
     ]
    },
    {
     "data": {
      "text/plain": [
       "'Deterministic \\nAll bodies will have the same thickness'"
      ]
     },
     "metadata": {},
     "output_type": "display_data"
    },
    {
     "name": "stdout",
     "output_type": "stream",
     "text": [
      "relatedness=0.770\n"
     ]
    },
    {
     "data": {
      "text/plain": [
       "'Deterministic \\nAll bodies will have the same thickness'"
      ]
     },
     "metadata": {},
     "output_type": "display_data"
    },
    {
     "name": "stdout",
     "output_type": "stream",
     "text": [
      "relatedness=0.770\n"
     ]
    },
    {
     "data": {
      "text/plain": [
       "'Thermal Fluid Model Workflow \\nThe Petrel workflow supports thermal liveoil fluids. A thermal fluid is created in the same way as a\\ncompositional fluid, either by importing keywords from in ECLIPSE fluid model (Keywords)\\nformat, or from the fluid process.\\nHow to Review and Edit a Thermal Fluid Model\\n1. Select the thermal live oil model from Edit existing.\\n2. From the General tab, select if the model has water. Select how the specific heat of\\ncomponents should be supplied. This will determine the columns of the Components tab.\\n3. Fill out the Components tab, defining parameters such as reference density, along with K-\\nvalue coefficients for each component. If you want to define K values using either KVWI or\\nKVTABTn keywords then the K-values in the component tab should be left blank at\\npresent, and the necessary keywords inserted via the editor.\\n4. Fill out the Samples tab as described in Compositional fluid model workflow.\\n5. The Viscosity tab allows temperature dependent viscosity to be defined in tabular form\\n(equivalent to keyword OILVISCT for example) or functional form (equivalent to keyword\\nOILVISCF). Please note that the correlation keyword OILVISCC is not yet supported. If\\nyou want to include this in your simulation model then the keyword must be inserted via\\nthe editor.\\n6. Define Water properties if the option has been selected from the General tab.\\n7. Define Initial conditions as described in Compositional Fluid Model Workflow.\\nHow to Make a Thermal Simulation\\nThe thermal fluid that you have created should be added to an ECLIPSE 300 simulation in the\\nsame way as a compositional fluid model.\\nInitializing the simulation by enumeration is not supported for thermal simulation.\\nNote: Keywords are exported with the same precision as their associated template. This means\\nthat if you are using the TCRIT keyword rather than CVTYPE to indicate that a component is\\nonly in the gas phase then you will need to increase the precision of the temperature template to\\n6dp. For more information please refer to the ECLIPSE reference manual.'"
      ]
     },
     "metadata": {},
     "output_type": "display_data"
    },
    {
     "name": "stdout",
     "output_type": "stream",
     "text": [
      "relatedness=0.769\n"
     ]
    },
    {
     "data": {
      "text/plain": [
       "'Optimization \\nRapidly update reservoir models, better manage risk, and easily share\\nknowledge\\nThe Workflow Editor, an integral part of Petrel software, captures data parameters and\\nrelationships that enable rapid updating of reservoir models as information from new wells\\narrives.\\nGeoscientists and engineers can create multiple model realizations to assess the impact on\\nreserve volumetrics or to cost well placement. Engineers can run all the possible scenarios in\\nECLIPSE directly, without leaving Petrel.\\nIn addition to understanding uncertainty and risk management, the Workflow Editor empowers\\nknowledge sharing, allowing best practices and workflows to be easily shared across your\\norganization.\\nWith Petrel, asset teams can reduce project cycle time and maximize productivity.\\nUncertainty and Optimization\\nThe Uncertainty and Optimization process allows you to to sensitivity analysis. You can create\\nproxies for volumetric or simulation cases using experimental designs for faster evaluation of\\nuncertainty in volumetric and recovery. Proxy models can also be used for screening to evaluate\\nwhich parameters the model is most sensitive to.\\nUse the process to optimize your simulation forcasts, and consider uncertain parameters during\\noptimization.'"
      ]
     },
     "metadata": {},
     "output_type": "display_data"
    },
    {
     "name": "stdout",
     "output_type": "stream",
     "text": [
      "relatedness=0.769\n"
     ]
    },
    {
     "data": {
      "text/plain": [
       "'Views \\nthe views in here allow you to choose different ways to visualize the simulation data.\\nDynamic data allows you to plot simulation data against time or other simulation data. Case\\nvariables allows you to plot simulation data at a given time against values of case variables.\\nDynamic data\\nThis is where you select simulation results to be displayed. This sub-tree is used by both of\\nthe view types.\\nIdentifier, Source data type, Fluid identifiers, Aquifer type etc\\nfolders of filters used to qualify the data to be visualized by one of the view types held in the\\nViews folder. These sub-trees are used by both of the view types.\\nCase variables\\nthis folder is used only by the Case variables view, to select a variable to be displayed on X-\\naxis.'"
      ]
     },
     "metadata": {},
     "output_type": "display_data"
    },
    {
     "name": "stdout",
     "output_type": "stream",
     "text": [
      "relatedness=0.769\n"
     ]
    },
    {
     "data": {
      "text/plain": [
       "'Depth Conversion Process \\nOnce a velocity model has been created, it can be used to depth convert objects. Objects which\\ncan be depth converted include:'"
      ]
     },
     "metadata": {},
     "output_type": "display_data"
    }
   ],
   "source": [
    "# examples\n",
    "strings, relatednesses = strings_ranked_by_relatedness(\"dynamic model\", df, top_n=50)\n",
    "for string, relatedness in zip(strings, relatednesses):\n",
    "    print(f\"{relatedness=:.3f}\")\n",
    "    display(string)"
   ]
  },
  {
   "cell_type": "code",
   "execution_count": null,
   "metadata": {},
   "outputs": [],
   "source": [
    "def num_tokens(text: str, model: str = GPT_MODEL) -> int:\n",
    "    \"\"\"Return the number of tokens in a string.\"\"\"\n",
    "    encoding = tiktoken.encoding_for_model(model)\n",
    "    return len(encoding.encode(text))\n",
    "\n",
    "\n",
    "def query_message(\n",
    "    query: str,\n",
    "    df: pd.DataFrame,\n",
    "    model: str,\n",
    "    token_budget: int\n",
    ") -> str:\n",
    "    \"\"\"Return a message for GPT, with relevant source texts pulled from a dataframe.\"\"\"\n",
    "    strings, relatednesses = strings_ranked_by_relatedness(query, df)\n",
    "    introduction = 'Use the below articles on the 2022 Winter Olympics to answer the subsequent question. If the answer cannot be found in the articles, write \"I could not find an answer.\"'\n",
    "    question = f\"\\n\\nQuestion: {query}\"\n",
    "    message = introduction\n",
    "    for string in strings:\n",
    "        next_article = f'\\n\\nWikipedia article section:\\n\"\"\"\\n{string}\\n\"\"\"'\n",
    "        if (\n",
    "            num_tokens(message + next_article + question, model=model)\n",
    "            > token_budget\n",
    "        ):\n",
    "            break\n",
    "        else:\n",
    "            message += next_article\n",
    "    return message + question\n",
    "\n",
    "\n",
    "def ask(\n",
    "    query: str,\n",
    "    df: pd.DataFrame = df,\n",
    "    model: str = GPT_MODEL,\n",
    "    token_budget: int = 4096 - 500,\n",
    "    print_message: bool = False,\n",
    ") -> str:\n",
    "    \"\"\"Answers a query using GPT and a dataframe of relevant texts and embeddings.\"\"\"\n",
    "    message = query_message(query, df, model=model, token_budget=token_budget)\n",
    "    if print_message:\n",
    "        print(message)\n",
    "    messages = [\n",
    "        {\"role\": \"system\", \"content\": \"You answer questions about the 2022 Winter Olympics.\"},\n",
    "        {\"role\": \"user\", \"content\": message},\n",
    "    ]\n",
    "    response = openai.ChatCompletion.create(\n",
    "        model=model,\n",
    "        messages=messages,\n",
    "        temperature=0\n",
    "    )\n",
    "    response_message = response[\"choices\"][0][\"message\"][\"content\"]\n",
    "    return response_message"
   ]
  }
 ],
 "metadata": {
  "kernelspec": {
   "display_name": "petrobot",
   "language": "python",
   "name": "python3"
  },
  "language_info": {
   "codemirror_mode": {
    "name": "ipython",
    "version": 3
   },
   "file_extension": ".py",
   "mimetype": "text/x-python",
   "name": "python",
   "nbconvert_exporter": "python",
   "pygments_lexer": "ipython3",
   "version": "3.8.18"
  }
 },
 "nbformat": 4,
 "nbformat_minor": 2
}
