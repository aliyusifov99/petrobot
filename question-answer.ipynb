{
 "cells": [
  {
   "cell_type": "code",
   "execution_count": 32,
   "metadata": {},
   "outputs": [],
   "source": [
    "# imports\n",
    "import ast  # for converting embeddings saved as strings back to arrays\n",
    "import openai  # for calling the OpenAI API\n",
    "import pandas as pd  # for storing text and embeddings data\n",
    "import tiktoken  # for counting tokens\n",
    "from scipy import spatial  # for calculating vector similarities for search\n",
    "import typing\n",
    "from keys import API_KEY\n",
    "\n",
    "\n",
    "# models\n",
    "EMBEDDING_MODEL = \"text-embedding-ada-002\"\n",
    "GPT_MODEL = \"gpt-4\"\n",
    "openai.api_key = API_KEY\n"
   ]
  },
  {
   "cell_type": "code",
   "execution_count": 33,
   "metadata": {},
   "outputs": [],
   "source": [
    "# download pre-chunked text and pre-computed embeddings\n",
    "# this file is ~200 MB, so may take a minute depending on your connection speed\n",
    "embeddings_path = r\"C:\\Users\\aliyu\\OneDrive\\Documents\\AI\\Projects\\petrobot\\petrel_manual.csv\"\n",
    "\n",
    "df = pd.read_csv(embeddings_path)\n",
    "df = df[['text','embedding']]"
   ]
  },
  {
   "cell_type": "code",
   "execution_count": 34,
   "metadata": {},
   "outputs": [
    {
     "data": {
      "text/html": [
       "<div>\n",
       "<style scoped>\n",
       "    .dataframe tbody tr th:only-of-type {\n",
       "        vertical-align: middle;\n",
       "    }\n",
       "\n",
       "    .dataframe tbody tr th {\n",
       "        vertical-align: top;\n",
       "    }\n",
       "\n",
       "    .dataframe thead th {\n",
       "        text-align: right;\n",
       "    }\n",
       "</style>\n",
       "<table border=\"1\" class=\"dataframe\">\n",
       "  <thead>\n",
       "    <tr style=\"text-align: right;\">\n",
       "      <th></th>\n",
       "      <th>text</th>\n",
       "      <th>embedding</th>\n",
       "    </tr>\n",
       "  </thead>\n",
       "  <tbody>\n",
       "    <tr>\n",
       "      <th>0</th>\n",
       "      <td>\\nWWeellccoommee ttoo tthhee PPeettrreell** hh...</td>\n",
       "      <td>[-0.0035548934247344732, -0.00918952003121376,...</td>\n",
       "    </tr>\n",
       "    <tr>\n",
       "      <th>1</th>\n",
       "      <td>Petrel Exploration Geophysics \\nInterpret regi...</td>\n",
       "      <td>[-0.024511124938726425, 0.005252866540104151, ...</td>\n",
       "    </tr>\n",
       "    <tr>\n",
       "      <th>2</th>\n",
       "      <td>Imaging | Petrel Fault Analysis | Petrel Well ...</td>\n",
       "      <td>[-0.02430061623454094, -0.005952354986220598, ...</td>\n",
       "    </tr>\n",
       "    <tr>\n",
       "      <th>3</th>\n",
       "      <td>Framework \\nPlug-ins for Petrel\\nLeverage pred...</td>\n",
       "      <td>[0.005327986553311348, -0.0005350260762497783,...</td>\n",
       "    </tr>\n",
       "    <tr>\n",
       "      <th>4</th>\n",
       "      <td>Petrel Geophysics \\nPerform rapid 2D and 3D se...</td>\n",
       "      <td>[-0.03281170502305031, 0.0006662339437752962, ...</td>\n",
       "    </tr>\n",
       "  </tbody>\n",
       "</table>\n",
       "</div>"
      ],
      "text/plain": [
       "                                                text  \\\n",
       "0  \\nWWeellccoommee ttoo tthhee PPeettrreell** hh...   \n",
       "1  Petrel Exploration Geophysics \\nInterpret regi...   \n",
       "2  Imaging | Petrel Fault Analysis | Petrel Well ...   \n",
       "3  Framework \\nPlug-ins for Petrel\\nLeverage pred...   \n",
       "4  Petrel Geophysics \\nPerform rapid 2D and 3D se...   \n",
       "\n",
       "                                           embedding  \n",
       "0  [-0.0035548934247344732, -0.00918952003121376,...  \n",
       "1  [-0.024511124938726425, 0.005252866540104151, ...  \n",
       "2  [-0.02430061623454094, -0.005952354986220598, ...  \n",
       "3  [0.005327986553311348, -0.0005350260762497783,...  \n",
       "4  [-0.03281170502305031, 0.0006662339437752962, ...  "
      ]
     },
     "execution_count": 34,
     "metadata": {},
     "output_type": "execute_result"
    }
   ],
   "source": [
    "df.head()"
   ]
  },
  {
   "cell_type": "code",
   "execution_count": 36,
   "metadata": {},
   "outputs": [],
   "source": [
    "# convert embeddings from CSV str type back to list type\n",
    "df['embedding'] = df['embedding'].apply(ast.literal_eval)"
   ]
  },
  {
   "cell_type": "code",
   "execution_count": 37,
   "metadata": {},
   "outputs": [],
   "source": [
    "# search function\n",
    "def strings_ranked_by_relatedness(\n",
    "    query: str,\n",
    "    df: pd.DataFrame,\n",
    "    relatedness_fn=lambda x, y: 1 - spatial.distance.cosine(x, y),\n",
    "    top_n: int = 100) -> typing.Tuple[typing.List[str], typing.List[float]]:\n",
    "    \"\"\"Returns a list of strings and relatednesses, sorted from most related to least.\"\"\"\n",
    "    query_embedding_response = openai.Embedding.create(\n",
    "        model=EMBEDDING_MODEL,\n",
    "        input=query,\n",
    "    )\n",
    "    query_embedding = query_embedding_response[\"data\"][0][\"embedding\"]\n",
    "    strings_and_relatednesses = [\n",
    "        (row[\"text\"], relatedness_fn(query_embedding, row[\"embedding\"]))\n",
    "        for i, row in df.iterrows()\n",
    "    ]\n",
    "    strings_and_relatednesses.sort(key=lambda x: x[1], reverse=True)\n",
    "    strings, relatednesses = zip(*strings_and_relatednesses)\n",
    "    return strings[:top_n], relatednesses[:top_n]"
   ]
  },
  {
   "cell_type": "code",
   "execution_count": 38,
   "metadata": {},
   "outputs": [
    {
     "name": "stdout",
     "output_type": "stream",
     "text": [
      "relatedness=0.806\n"
     ]
    },
    {
     "data": {
      "text/plain": [
       "'2. Surfaces \\n3. Property models'"
      ]
     },
     "metadata": {},
     "output_type": "display_data"
    },
    {
     "name": "stdout",
     "output_type": "stream",
     "text": [
      "relatedness=0.800\n"
     ]
    },
    {
     "data": {
      "text/plain": [
       "'Figure 5 \\nThe impact on the model becomes much clearer when a larger range is used for the modeling'"
      ]
     },
     "metadata": {},
     "output_type": "display_data"
    },
    {
     "name": "stdout",
     "output_type": "stream",
     "text": [
      "relatedness=0.793\n"
     ]
    },
    {
     "data": {
      "text/plain": [
       "'Velocity Modeling (Domain Conversion) \\nWell log upscaling'"
      ]
     },
     "metadata": {},
     "output_type": "display_data"
    },
    {
     "name": "stdout",
     "output_type": "stream",
     "text": [
      "relatedness=0.789\n"
     ]
    },
    {
     "data": {
      "text/plain": [
       "'Type \\nChoose how to model porosity heterogeneity in the simulation. You can choose from single or\\ndual porosity, or dual permeability models.'"
      ]
     },
     "metadata": {},
     "output_type": "display_data"
    },
    {
     "name": "stdout",
     "output_type": "stream",
     "text": [
      "relatedness=0.788\n"
     ]
    },
    {
     "data": {
      "text/plain": [
       "'Data Management \\nSave all the detailed analysis for each property for use later in the modeling process or when you\\nare updating your models at some later time.'"
      ]
     },
     "metadata": {},
     "output_type": "display_data"
    },
    {
     "name": "stdout",
     "output_type": "stream",
     "text": [
      "relatedness=0.787\n"
     ]
    },
    {
     "data": {
      "text/plain": [
       "'(Zoom) \\nDragging the cap towards you makes the model come closer\\nPushing the cap from you makes the model move away'"
      ]
     },
     "metadata": {},
     "output_type": "display_data"
    },
    {
     "name": "stdout",
     "output_type": "stream",
     "text": [
      "relatedness=0.782\n"
     ]
    },
    {
     "data": {
      "text/plain": [
       "'Facies Modeling Petrophysical Modeling Data Analysis Uncertainty Analysis Optimization \\nWorkflow editor'"
      ]
     },
     "metadata": {},
     "output_type": "display_data"
    },
    {
     "name": "stdout",
     "output_type": "stream",
     "text": [
      "relatedness=0.782\n"
     ]
    },
    {
     "data": {
      "text/plain": [
       "'History Matching. \\nWell design in 3D. Digitizing, editing and visualizing of well trajectories based on the\\ngenerated geological models. Output spread sheets with detailed well report and synthetic\\nwell logs.\\nWell Optimizer to create a series of cost-dependant realizations based on Target points and\\ncost model.\\nImproved documentation and reporting of the project work through tight integration with\\ndesktop tools like PowerPoint, Word and Excel.'"
      ]
     },
     "metadata": {},
     "output_type": "display_data"
    },
    {
     "name": "stdout",
     "output_type": "stream",
     "text": [
      "relatedness=0.781\n"
     ]
    },
    {
     "data": {
      "text/plain": [
       "\"Workflow Editor \\nThe Workflow editor has several functions. Two of the most important to allow rapid updates of\\nmodels and to perform batch operations on input data. A workflow for rebuilding the model can be\\ngenerated at the push of a button and edited as required before running, recreating the model in\\na single operation. Any changes in the input data will be taken into account. Batch operations on\\ninput data are created intuitively using an object orientated programming language based on\\nPetrel's user interface. See Workflow editor for details.\""
      ]
     },
     "metadata": {},
     "output_type": "display_data"
    },
    {
     "name": "stdout",
     "output_type": "stream",
     "text": [
      "relatedness=0.781\n"
     ]
    },
    {
     "data": {
      "text/plain": [
       "'Interactive Facies Modeling \\nIn interactive facies modeling, discrete 3D properties can be edited or made from scratch\\ninteractively using various tools. It works almost like a drawing tool, where you can switch\\nbetween different drawing styles like pencil, brush or airbrush and fill the facies bodies directly\\ninto the 3D grid. In this way, a completely new facies property can be made and used to condition\\nthe petrophysical modeling.\\nIn the image above is shown an example of a property grid of facies model with channels.\\nTools for interactive facies modeling\\nWhen the Facies modeling is active, a set of icons becomes available in the Function bar. These\\nare divided into property tools and property actions. Note that there is no undo option for these\\ntools and that it is wise to make a copy of the property before starting.\\nThe Facies modeling process dialog has a tab (Edit hints tab) with some hints concerning\\nsome of these tools.\\nFacies modeling Tools bar\\nView Mode - Cursor mode to move the view in the Display window.\\nMagnify (shortcut key Z) - Works in a 2D window and when orthogonal view is turned on in\\nthe 3D window. Click on the icon, then click and drag in the Display window.\\nMeasure Distance (shortcut key D) - Will measure the 2D and 3D distance between two\\ndifferent points in the Display window. Click on the icon, and then click on a point (object) in the\\nDisplay window. When dragging the cursor from that point, the distance is measured and\\ndisplayed interactively. The distance and the direction will be given in project units.\\nManipulate Plane - Only used with a General Intersection. When active, the intersection can\\nbe moved around using the cursor. PgUp and PgDn will move the General Intersection along the\\nnormal; the cursor and the right and left arrow keys will rotate it around the Z-axis. Holding down\\nthe Ctrl key and moving the cursor can also rotate the General Intersection.\\nPick/Select Mode - Cursor mode to pick/select items in the Display window.\\nPencil - Select facies first, then activate the pencil and click on the cells you want to change to\\nthe selected facies. This will only affect single cells.\\nBrush - Works together with all the property actions. Define the property actions before using\\nthe brush. When \"painting\" the model with the brush, the effect will depend on the property\\naction settings.\\nAirbrush - Select facies first and then use the airbrush to \"spray\" the model with the selected\\nfacies. This will only affect the top layer.\\nFill - Select facies first, then activate this tool and click on the model to edit the facies in a\\nspecific layer.\\nSelect facies code - Click on this tool, then click on a facies in the Display window. This is\\nnow the active facies, i.e. the one that will be painted in when using the brush for example.\\nInteractive facies modeling actions\\nRefresh - updates the filter after it has been redefined.\\nChange Visible Only - if the filter and this tool are active, changes made with any other tools\\nwill only affect visible cells - not those hidden by the filter.\\nChange Inside Zone Only - limits the modifications to the zone in which the action was\\nstarted i.e. the zone clicked on with the brush or other painting tool.\\nSelect Facies - click on this tool to get a sub-menu from which you can activate a facies.\\nSelect Brush Radius - click on this tool to get a sub-menu from which you can define how\\nwide the influence of the brushes should be. The radius varies between 1 and 8 grid cells.\\nSelect Height - click on this tool to get a sub-menu from which you can define the\\ndepth/height of the influence of the brush, this varies between 1 and 8 cells, within a zone or the\\nentire model.\\nSelect Profile - click on this tool to get a sub-menu from which you can define the influence\\nprofile of the brush in the vertical direction (rectangle, pipe, lower/upper half pipe).\\nSelect Brush Type - define whether the brush should paint in squares or circles.\\nSelect Origin - define whether the facies thickness should be extended downwards, upwards\\nor both ways from the starting point.\\nInteractive Facies modeling process\\nWhen working with interactive facies modeling, it is possible to start with a model in which all the\\ngrid cells are set to zero and then build up the distribution of facies. It is also possible to start with\\na model that already has some type of facies distribution (e.g. from stochastic simulation) and\\nadjust it according to preference.\\nHow to create a new facies property\\n1. Open the properties calculator\\n2. Change the template to Facies\\n3. Type in the following formula: NewFacies=0'"
      ]
     },
     "metadata": {},
     "output_type": "display_data"
    }
   ],
   "source": [
    "# examples\n",
    "strings, relatednesses = strings_ranked_by_relatedness(\"dynamic model\", df, top_n=10)\n",
    "for string, relatedness in zip(strings, relatednesses):\n",
    "    print(f\"{relatedness=:.3f}\")\n",
    "    display(string)"
   ]
  },
  {
   "cell_type": "code",
   "execution_count": null,
   "metadata": {},
   "outputs": [],
   "source": [
    "def num_tokens(text: str, model: str = GPT_MODEL) -> int:\n",
    "    \"\"\"Return the number of tokens in a string.\"\"\"\n",
    "    encoding = tiktoken.encoding_for_model(model)\n",
    "    return len(encoding.encode(text))\n",
    "\n",
    "\n",
    "def query_message(\n",
    "    query: str,\n",
    "    df: pd.DataFrame,\n",
    "    model: str,\n",
    "    token_budget: int\n",
    ") -> str:\n",
    "    \"\"\"Return a message for GPT, with relevant source texts pulled from a dataframe.\"\"\"\n",
    "    strings, relatednesses = strings_ranked_by_relatedness(query, df)\n",
    "    introduction = 'Use the below articles on the 2022 Winter Olympics to answer the subsequent question. If the answer cannot be found in the articles, write \"I could not find an answer.\"'\n",
    "    question = f\"\\n\\nQuestion: {query}\"\n",
    "    message = introduction\n",
    "    for string in strings:\n",
    "        next_article = f'\\n\\nWikipedia article section:\\n\"\"\"\\n{string}\\n\"\"\"'\n",
    "        if (\n",
    "            num_tokens(message + next_article + question, model=model)\n",
    "            > token_budget\n",
    "        ):\n",
    "            break\n",
    "        else:\n",
    "            message += next_article\n",
    "    return message + question\n",
    "\n",
    "\n",
    "def ask(\n",
    "    query: str,\n",
    "    df: pd.DataFrame = df,\n",
    "    model: str = GPT_MODEL,\n",
    "    token_budget: int = 4096 - 500,\n",
    "    print_message: bool = False,\n",
    ") -> str:\n",
    "    \"\"\"Answers a query using GPT and a dataframe of relevant texts and embeddings.\"\"\"\n",
    "    message = query_message(query, df, model=model, token_budget=token_budget)\n",
    "    if print_message:\n",
    "        print(message)\n",
    "    messages = [\n",
    "        {\"role\": \"system\", \"content\": \"You answer questions about the 2022 Winter Olympics.\"},\n",
    "        {\"role\": \"user\", \"content\": message},\n",
    "    ]\n",
    "    response = openai.ChatCompletion.create(\n",
    "        model=model,\n",
    "        messages=messages,\n",
    "        temperature=0\n",
    "    )\n",
    "    response_message = response[\"choices\"][0][\"message\"][\"content\"]\n",
    "    return response_message"
   ]
  }
 ],
 "metadata": {
  "kernelspec": {
   "display_name": "petrobot",
   "language": "python",
   "name": "python3"
  },
  "language_info": {
   "codemirror_mode": {
    "name": "ipython",
    "version": 3
   },
   "file_extension": ".py",
   "mimetype": "text/x-python",
   "name": "python",
   "nbconvert_exporter": "python",
   "pygments_lexer": "ipython3",
   "version": "3.8.18"
  }
 },
 "nbformat": 4,
 "nbformat_minor": 2
}
